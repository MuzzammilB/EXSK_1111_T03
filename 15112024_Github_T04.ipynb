{
  "nbformat": 4,
  "nbformat_minor": 0,
  "metadata": {
    "colab": {
      "provenance": [],
      "private_outputs": true,
      "authorship_tag": "ABX9TyNYw4y2dQe4oiEtvoskcaNc",
      "include_colab_link": true
    },
    "kernelspec": {
      "name": "python3",
      "display_name": "Python 3"
    },
    "language_info": {
      "name": "python"
    }
  },
  "cells": [
    {
      "cell_type": "markdown",
      "metadata": {
        "id": "view-in-github",
        "colab_type": "text"
      },
      "source": [
        "<a href=\"https://colab.research.google.com/github/MuzzammilB/EXSK_1111_T03/blob/main/15112024_Github_T04.ipynb\" target=\"_parent\"><img src=\"https://colab.research.google.com/assets/colab-badge.svg\" alt=\"Open In Colab\"/></a>"
      ]
    },
    {
      "cell_type": "markdown",
      "source": [
        "We have extracted CDS and Exon from mRNA ID.\n",
        "We found the translation start site position from the CDS and Exon alignment.\n",
        "We know the exon containing TSS.\n",
        "We have the exon skip function, which based on the above information skips exons folloeing the exon containing TSS.\n",
        "\n",
        "What outputs do we want?\n",
        "\n",
        "(default output)\n",
        "- Name of the Gene, Exon count, cds length.\n",
        "- TSS position and exon.\n",
        "- List of Exons which induces PTC upon skipping.\n",
        "\n",
        "\n",
        "(checkboxes to select the output)\n",
        "- Sequence/length of the exons before/after skipping."
      ],
      "metadata": {
        "id": "VbRM7ZM2D1RQ"
      }
    },
    {
      "cell_type": "code",
      "execution_count": null,
      "metadata": {
        "id": "8enGEG5ccMgP",
        "cellView": "form"
      },
      "outputs": [],
      "source": [
        "# @title Libraries\n",
        "# @markdown Installs dependencies\n",
        "!pip install biopython\n",
        "!pip install termcolor\n",
        "\n",
        "from Bio import Entrez, SeqIO\n",
        "from Bio.Seq import Seq, translate\n",
        "from termcolor import colored\n",
        "\n",
        "# Set up your Entrez email\n",
        "Entrez.email = \"muzzammilbhaisaheb@gmail.com\"  # replace with your email"
      ]
    },
    {
      "cell_type": "code",
      "source": [
        "# @title gene\n",
        "# @markdown provides gene name from mRNA ID.\n",
        "def gene(mrna_id):\n",
        "    try:\n",
        "        # Fetch the mRNA record from NCBI using a context manager\n",
        "        with Entrez.efetch(db=\"nucleotide\", id=mrna_id, rettype=\"gb\", retmode=\"text\") as handle:\n",
        "            record = SeqIO.read(handle, \"genbank\")\n",
        "\n",
        "        # Look for the gene name in the features\n",
        "        gene_name = None\n",
        "        for feature in record.features:\n",
        "            if feature.type == \"gene\" and \"gene\" in feature.qualifiers:\n",
        "                gene_name = feature.qualifiers[\"gene\"][0]  # Take the first gene name found\n",
        "                break  # Exit after finding the first gene name\n",
        "\n",
        "        return gene_name if gene_name else \"Gene name not found.\"\n",
        "\n",
        "    except Exception as e:\n",
        "        print(f\"An error occurred: {e}\")\n",
        "        return None"
      ],
      "metadata": {
        "cellView": "form",
        "id": "5HREOcXHfIrk"
      },
      "execution_count": null,
      "outputs": []
    },
    {
      "cell_type": "code",
      "execution_count": null,
      "metadata": {
        "id": "qsuhGLaEPipJ",
        "cellView": "form"
      },
      "outputs": [],
      "source": [
        "# @title get_exons\n",
        "# @markdown returns exons from mRNA ID.\n",
        "def get_exons(mrna_id):\n",
        "    #Fetch mRNA record from NCBI\n",
        "    try:\n",
        "        handle = Entrez.efetch(db=\"nucleotide\", id=mrna_id, rettype=\"gb\", retmode=\"text\")\n",
        "        record = SeqIO.read(handle, \"genbank\")\n",
        "        handle.close()\n",
        "\n",
        "        #Extract exons\n",
        "        exons = []\n",
        "        for feature in record.features:\n",
        "            if feature.type == \"exon\":\n",
        "                exons.append(feature.location.extract(record).seq)\n",
        "\n",
        "        return exons\n",
        "\n",
        "    except Exception as e:\n",
        "        print(f\"An error occurred: {e}\")\n",
        "        return []"
      ]
    },
    {
      "cell_type": "code",
      "source": [
        "# @title get_cds\n",
        "# @markdown returns coding sequence from mRNA ID\n",
        "def get_cds(mrna_id):\n",
        "    try:\n",
        "        # Fetch the GenBank record for the given mRNA ID\n",
        "        handle = Entrez.efetch(db=\"nucleotide\", id=mrna_id, rettype=\"gb\", retmode=\"text\")\n",
        "        record = SeqIO.read(handle, \"genbank\")\n",
        "        handle.close()\n",
        "\n",
        "        # Search for the CDS feature in the GenBank record\n",
        "        for feature in record.features:\n",
        "            if feature.type == \"CDS\":\n",
        "                # Extract the CDS sequence\n",
        "                cds_seq = feature.extract(record.seq)\n",
        "                cds_product = feature.qualifiers.get('product', ['Unknown Product'])[0]\n",
        "\n",
        "                return cds_seq\n",
        "\n",
        "        # If no CDS is found\n",
        "        print(colored(f\"No CDS annotation found for NCBI mRNA ID: {mrna_id}\", \"red\"))\n",
        "        return None\n",
        "    except Exception as e:\n",
        "        print(colored(f\"Error: {str(e)}\", \"red\"))\n",
        "        return None"
      ],
      "metadata": {
        "id": "8oZAGyfQchKv",
        "cellView": "form"
      },
      "execution_count": null,
      "outputs": []
    },
    {
      "cell_type": "code",
      "source": [
        "# @title find_tss\n",
        "# @markdown returns TSS (translation start site) position by aligning sequences of mRNA with CDS.\n",
        "def find_tss(mrna_id):\n",
        "\n",
        "    exons = get_exons(mrna_id)\n",
        "    if not exons:\n",
        "        print(\"No exons found.\")\n",
        "        return None\n",
        "\n",
        "    mrna_seq = \"\".join([str(exon) for exon in exons])\n",
        "\n",
        "    cds_seq = get_cds(mrna_id)\n",
        "    if cds_seq is None:\n",
        "        print(\"No CDS sequence found.\")\n",
        "        return None\n",
        "\n",
        "    start_position = mrna_seq.find(str(cds_seq))\n",
        "\n",
        "    if start_position == -1:\n",
        "        print(\"CDS not found within the mRNA sequence.\")\n",
        "        return None\n",
        "\n",
        "    return start_position + 1"
      ],
      "metadata": {
        "id": "EBtnTed4OePa",
        "cellView": "form"
      },
      "execution_count": null,
      "outputs": []
    },
    {
      "cell_type": "code",
      "source": [
        "# @title exon_with_tss\n",
        "# @markdown returns the index of the exon containing TSS\n",
        "# always put start_position = find_tss\n",
        "\n",
        "def exon_with_tss(exons, start_position):\n",
        "    cumulative_length = 0\n",
        "    for i, exon in enumerate(exons):\n",
        "        cumulative_length += len(exon)\n",
        "        if cumulative_length >= start_position:\n",
        "            return i\n",
        "\n",
        "    #The TSS is located in exon {exon_with_tss + 1}\n",
        "    return None"
      ],
      "metadata": {
        "id": "1DVfdpyJVxSW",
        "cellView": "form"
      },
      "execution_count": null,
      "outputs": []
    },
    {
      "cell_type": "code",
      "source": [
        "# @title ESK_CDSv03\n",
        "# @markdown simulates exon skipping and translates modified mRNA starting from the next exon containing TSS\n",
        "\n",
        "def exon_skipping(mrna_id):\n",
        "\n",
        "    start_position = find_tss(mrna_id)\n",
        "\n",
        "    if start_position is None:\n",
        "        print(\"Unable to find start position for CDS.\")\n",
        "        return None\n",
        "\n",
        "    exons = get_exons(mrna_id)\n",
        "    if not exons:\n",
        "        print(\"No exons found.\")\n",
        "        return None\n",
        "\n",
        "    start_exon_index = exon_with_tss(exons, start_position)\n",
        "\n",
        "    if start_exon_index is None:\n",
        "        print(\"Unable to find the exon containing the start position.\")\n",
        "        return None\n",
        "\n",
        "    mrna_seq = \"\".join([str(exon) for exon in exons])\n",
        "    normal_protein_allptc = translate(mrna_seq[start_position - 1:])\n",
        "    normal_protein_1stptc = translate(mrna_seq[start_position - 1:], to_stop=True)\n",
        "    normal_diff = len(normal_protein_allptc) - len(normal_protein_1stptc)\n",
        "    #print(f\"Normal Protein length_allptc: {len(normal_protein_allptc)}\")\n",
        "    print(f\"Protein length: {len(normal_protein_1stptc)} aa\")\n",
        "\n",
        "    # skipping exons starting from the exon next to the exon containing the start codon\n",
        "    for i in range(start_exon_index + 1, len(exons)):\n",
        "        # Create a modified mRNA sequence by skipping the i-th exon onwards\n",
        "        modified_exons = exons[:i] + exons[i+1:]  # Skip the i-th exon\n",
        "        modified_mrna_seq = \"\".join([str(exon) for exon in modified_exons])\n",
        "\n",
        "        # Ensure that we only translate if the start position is within bounds\n",
        "        if start_position - 1 < len(modified_mrna_seq):\n",
        "            # Translate the modified mRNA sequence\n",
        "            mod_protein_allptc = translate(modified_mrna_seq[start_position - 1:])\n",
        "            mod_protein_1stptc = translate(modified_mrna_seq[start_position - 1:], to_stop=True)  # Adjust for 0-based index\n",
        "\n",
        "            if (len(mod_protein_allptc) - len(mod_protein_1stptc)) > normal_diff:\n",
        "                print(f\"\\nSkipping exon {i + 1}:\")\n",
        "                print(f\"Modified mRNA length: {len(modified_mrna_seq)}\")\n",
        "                print(f\"Modified mRNA Sequence: {modified_mrna_seq}\")\n",
        "                print(f\"Translated Protein Sequence_allptc: {mod_protein_allptc}\")\n",
        "                #print(f\"Translated Protein length_allptc: {len(mod_protein_allptc)}\")\n",
        "                #print(f\"Translated Protein Sequence_1stptc: {mod_protein_1stptc}\")\n",
        "                print(f\"Translated Protein length: {len(mod_protein_1stptc)}\")\n",
        "\n",
        "        else:\n",
        "            print(f\"Start position {start_position} is out of bounds after skipping exon {i + 1}.\")"
      ],
      "metadata": {
        "id": "Z4B5Wuytc2U-"
      },
      "execution_count": null,
      "outputs": []
    },
    {
      "cell_type": "code",
      "source": [
        "# @title Github Input-output\n",
        "#mrna_id = \"NM_002046.7\"  #GAPDH\n",
        "mrna_id = \"NM_000492.4\"  #CFTR\n",
        "#mrna_id = \"NM_170707.4\"  #LMNA\n",
        "#mrna_id = \"NM_001165963.4\"  #SCN1A\n",
        "#mrna_id = \"NM_000518.5\" #Heamoglobin\n",
        "\n",
        "\n",
        "\n",
        "exons = get_exons(mrna_id)  # List of exon sequences\n",
        "print(f\"GENE: {gene(mrna_id)}\")\n",
        "print(f\"Exons: {len(get_exons(mrna_id))}\")\n",
        "print((f\"CDS Length: {len(get_cds(mrna_id))} nt\"))\n",
        "print(f\"TSS: {find_tss(mrna_id)} nt\")\n",
        "print(f\"TSS is in exon: {exon_with_tss(exons, (find_tss(mrna_id))) + 1}\")\n",
        "\n",
        "\n",
        "exon_skipping(mrna_id)"
      ],
      "metadata": {
        "id": "m6Ap5usQdfUH"
      },
      "execution_count": null,
      "outputs": []
    },
    {
      "cell_type": "code",
      "source": [],
      "metadata": {
        "id": "pI5aHVgf6lPf"
      },
      "execution_count": null,
      "outputs": []
    }
  ]
}